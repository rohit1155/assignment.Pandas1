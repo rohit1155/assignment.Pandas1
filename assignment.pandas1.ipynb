{
 "cells": [
  {
   "cell_type": "markdown",
   "id": "c2647f04-f2b0-4fcb-9cb1-0e55c2dae1d0",
   "metadata": {},
   "source": [
    "Q1. Create a Pandas Series that contains the following data: 4, 8, 15, 16, 23, and 42. Then, print the series."
   ]
  },
  {
   "cell_type": "code",
   "execution_count": 1,
   "id": "a4a5170f-50e5-4fe1-8ef2-73b0addd5481",
   "metadata": {},
   "outputs": [],
   "source": [
    "import pandas as pd"
   ]
  },
  {
   "cell_type": "code",
   "execution_count": 2,
   "id": "21306b19-eb09-498a-a9b3-2af5357dd007",
   "metadata": {},
   "outputs": [
    {
     "data": {
      "text/plain": [
       "0     4\n",
       "1     8\n",
       "2    15\n",
       "3    16\n",
       "4    23\n",
       "5    42\n",
       "dtype: int64"
      ]
     },
     "execution_count": 2,
     "metadata": {},
     "output_type": "execute_result"
    }
   ],
   "source": [
    "pd.Series([4, 8, 15, 16, 23,42])"
   ]
  },
  {
   "cell_type": "markdown",
   "id": "d2579585-a2ee-412a-84e2-493112486bea",
   "metadata": {},
   "source": [
    "Q2. Create a variable of list type containing 10 elements in it, and apply pandas.Series function on the\n",
    "variable print it."
   ]
  },
  {
   "cell_type": "code",
   "execution_count": 5,
   "id": "47dd5d84-6628-4fa4-b6b9-cc1254e41aed",
   "metadata": {},
   "outputs": [],
   "source": [
    "s=[[1,2,3,4,5,6,7,8,9,10]]"
   ]
  },
  {
   "cell_type": "code",
   "execution_count": 6,
   "id": "f6837b3b-6282-4392-9579-cd459a5de86c",
   "metadata": {},
   "outputs": [
    {
     "data": {
      "text/plain": [
       "0    [1, 2, 3, 4, 5, 6, 7, 8, 9, 10]\n",
       "dtype: object"
      ]
     },
     "execution_count": 6,
     "metadata": {},
     "output_type": "execute_result"
    }
   ],
   "source": [
    "pd.Series(s)"
   ]
  },
  {
   "cell_type": "markdown",
   "id": "410c9aeb-5ed9-43ce-81be-29c0f38d1fb9",
   "metadata": {},
   "source": [
    "Q3. Create a Pandas DataFrame that contains the following data:\n",
    "\n",
    "\n",
    "Name     Age     Gender\n",
    "Alice     25     Female\n",
    "Bob       30      Male\n",
    "Claire    27     Female\n",
    "         \n",
    "\n",
    "\n",
    "\n",
    "\n",
    "\n",
    "\n",
    "Then, print the DataFrame."
   ]
  },
  {
   "cell_type": "code",
   "execution_count": 7,
   "id": "03663593-f435-4ae2-b77f-4853b567883a",
   "metadata": {},
   "outputs": [],
   "source": [
    "df=[['Name','Age','Gender'],['Alice',25,'Female'],['Bob',30,'Male'],['Claire',27,'Female']]"
   ]
  },
  {
   "cell_type": "code",
   "execution_count": 10,
   "id": "c911b575-4e57-495d-b3a1-4ef9641f327c",
   "metadata": {},
   "outputs": [
    {
     "data": {
      "text/html": [
       "<div>\n",
       "<style scoped>\n",
       "    .dataframe tbody tr th:only-of-type {\n",
       "        vertical-align: middle;\n",
       "    }\n",
       "\n",
       "    .dataframe tbody tr th {\n",
       "        vertical-align: top;\n",
       "    }\n",
       "\n",
       "    .dataframe thead th {\n",
       "        text-align: right;\n",
       "    }\n",
       "</style>\n",
       "<table border=\"1\" class=\"dataframe\">\n",
       "  <thead>\n",
       "    <tr style=\"text-align: right;\">\n",
       "      <th></th>\n",
       "      <th>0</th>\n",
       "      <th>1</th>\n",
       "      <th>2</th>\n",
       "    </tr>\n",
       "  </thead>\n",
       "  <tbody>\n",
       "    <tr>\n",
       "      <th>0</th>\n",
       "      <td>Name</td>\n",
       "      <td>Age</td>\n",
       "      <td>Gender</td>\n",
       "    </tr>\n",
       "    <tr>\n",
       "      <th>1</th>\n",
       "      <td>Alice</td>\n",
       "      <td>25</td>\n",
       "      <td>Female</td>\n",
       "    </tr>\n",
       "    <tr>\n",
       "      <th>2</th>\n",
       "      <td>Bob</td>\n",
       "      <td>30</td>\n",
       "      <td>Male</td>\n",
       "    </tr>\n",
       "    <tr>\n",
       "      <th>3</th>\n",
       "      <td>Claire</td>\n",
       "      <td>27</td>\n",
       "      <td>Female</td>\n",
       "    </tr>\n",
       "  </tbody>\n",
       "</table>\n",
       "</div>"
      ],
      "text/plain": [
       "        0    1       2\n",
       "0    Name  Age  Gender\n",
       "1   Alice   25  Female\n",
       "2     Bob   30    Male\n",
       "3  Claire   27  Female"
      ]
     },
     "execution_count": 10,
     "metadata": {},
     "output_type": "execute_result"
    }
   ],
   "source": [
    "pd.DataFrame(df)"
   ]
  },
  {
   "cell_type": "markdown",
   "id": "ec898d4b-cba9-469e-a92b-cfb1dcb5cdd9",
   "metadata": {},
   "source": [
    "Q4. What is ‘DataFrame’ in pandas and how is it different from pandas.series? Explain with an example.\n",
    "\n",
    "ANS.As noted in the table, a Pandas Series is a 1D array of data, but a single-column DataFrame is a 2D table with one column. The main distinction between the two is this. For a single-column DataFrame, an index can be optional, but a Series has to have an index defined."
   ]
  },
  {
   "cell_type": "markdown",
   "id": "cb77a74a-f2c6-4136-bf33-bcdc8471bcf3",
   "metadata": {},
   "source": [
    "Q5. What are some common functions you can use to manipulate data in a Pandas DataFrame? Can\n",
    "you give an example of when you might use one of these functions?\n",
    "\n",
    "ANS. Most Important Pandas Functions for Data Science\n",
    "read_csv() This is one of the most crucial pandas methods in Python. ...\n",
    "head() head(n) is used to return the first n rows of a dataset. ...\n",
    "describe() ...\n",
    "memory_usage() ...\n",
    "astype() ...\n",
    "loc[:] ...\n",
    "to_datetime() ...\n",
    "value_counts()\n"
   ]
  },
  {
   "cell_type": "markdown",
   "id": "0f1b79fc-b392-44ac-8304-27c897210826",
   "metadata": {},
   "source": [
    "Q6. Which of the following is mutable in nature Series, DataFrame, Panel?\n",
    "\n",
    "ANS.DataFrames are both value and size-mutable (A Series, by contrast, is only value-mutable, not size-mutable. The length of a Series cannot be changed although the values can be changed)."
   ]
  },
  {
   "cell_type": "markdown",
   "id": "ecf1ba09-d40f-449b-a6a6-811a42a244f7",
   "metadata": {},
   "source": [
    "Q7. Create a DataFrame using multiple Series. Explain with an example."
   ]
  },
  {
   "cell_type": "code",
   "execution_count": 16,
   "id": "bfe3c155-5f8f-46c2-b0ad-1f7d6c1f076e",
   "metadata": {},
   "outputs": [
    {
     "data": {
      "text/plain": [
       "0    name\n",
       "1    roll\n",
       "0      SK\n",
       "1      26\n",
       "0      kk\n",
       "1      21\n",
       "dtype: object"
      ]
     },
     "execution_count": 16,
     "metadata": {},
     "output_type": "execute_result"
    }
   ],
   "source": [
    "r1=['name','roll']\n",
    "r2=['SK','26']\n",
    "r3=['kk','21']\n",
    "l1=pd.Series(r1)\n",
    "l2=pd.Series(r2)\n",
    "l3=pd.Series(r3)\n",
    "pd.concat([l1,l2,l3])"
   ]
  },
  {
   "cell_type": "code",
   "execution_count": null,
   "id": "3a4868a4-c97d-41f6-8664-ed65815c25cf",
   "metadata": {},
   "outputs": [],
   "source": []
  }
 ],
 "metadata": {
  "kernelspec": {
   "display_name": "Python 3 (ipykernel)",
   "language": "python",
   "name": "python3"
  },
  "language_info": {
   "codemirror_mode": {
    "name": "ipython",
    "version": 3
   },
   "file_extension": ".py",
   "mimetype": "text/x-python",
   "name": "python",
   "nbconvert_exporter": "python",
   "pygments_lexer": "ipython3",
   "version": "3.10.8"
  }
 },
 "nbformat": 4,
 "nbformat_minor": 5
}
